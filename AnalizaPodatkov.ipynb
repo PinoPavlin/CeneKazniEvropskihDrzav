{
 "cells": [
  {
   "cell_type": "markdown",
   "metadata": {},
   "source": [
    "# Analiza podatkov\n",
    "\n",
    "Podatki so zbrani iz spletne strani [AMZS](https://www.amzs.si/na-poti/Potovalne-informacije-po-evropskih-drzavah).\n",
    "\n",
    "## Priprava knjižnic in osnovnih nastavitev"
   ]
  },
  {
   "cell_type": "code",
   "execution_count": 1,
   "metadata": {},
   "outputs": [
    {
     "name": "stdout",
     "output_type": "stream",
     "text": [
      "[{'drzava': 'Albanija', 'valuta': 'ALL', 'alkohol': '5.000\\xa0- 15.000', 'voznja': '2.000 - 6.000', 'pas': '5.000', 'telefon': '5.000'}, {'drzava': 'Andora', 'valuta': 'EUR', 'alkohol': 'do 600', 'voznja': '24', 'pas': '20 na neprivezano osebo', 'telefon': None}, {'drzava': 'Avstrija', 'valuta': 'EUR', 'alkohol': '300 - 5.900', 'voznja': '35 - 726', 'pas': '35 - 72', 'telefon': '50 - 72'}, {'drzava': 'Belgija', 'valuta': 'EUR', 'alkohol': '150 - 16.000', 'voznja': '160', 'pas': '116', 'telefon': '116'}, {'drzava': 'Belorusija', 'valuta': 'BYN', 'alkohol': '1.225\\xa0- 2.450', 'voznja': '24,5', 'pas': '24,5', 'telefon': '49'}, {'drzava': 'BIH', 'valuta': 'BAM', 'alkohol': '50 - 1000', 'voznja': '50', 'pas': '100 - 300', 'telefon': '100 - 300'}, {'drzava': 'Bolgarija', 'valuta': 'BGN', 'alkohol': '500 - 1000', 'voznja': '20 - 600', 'pas': '50', 'telefon': '50'}, {'drzava': 'Češka', 'valuta': 'CZK', 'alkohol': '2.500 - 50.000', 'voznja': '2.500 - 5.000', 'pas': '1.500\\xa0- 2.500', 'telefon': '1.500 - 2.500'}, {'drzava': 'Črna Gora', 'valuta': 'EUR', 'alkohol': '70 - 2.000', 'voznja': '60 - 150', 'pas': '40 - 100', 'telefon': '60 - 150'}, {'drzava': 'Danska', 'valuta': 'DKK', 'alkohol': 'na podlagi mesečnega dohodka', 'voznja': '3.500', 'pas': '1.500', 'telefon': '1.500'}, {'drzava': 'Estonija', 'valuta': 'EUR', 'alkohol': '400 - 1.200', 'voznja': '120', 'pas': '200 - 400', 'telefon': '200 - 400'}, {'drzava': 'Finska', 'valuta': 'EUR', 'alkohol': 'dnevne kazni', 'voznja': '200', 'pas': '70', 'telefon': '100'}, {'drzava': 'Francija', 'valuta': 'EUR', 'alkohol': '135 - 4.500', 'voznja': '135', 'pas': '135', 'telefon': '135'}, {'drzava': 'Gibraltar', 'valuta': 'GBP', 'alkohol': None, 'voznja': None, 'pas': None, 'telefon': None}, {'drzava': 'Grčija', 'valuta': 'EUR', 'alkohol': '78 - 1.200', 'voznja': '100', 'pas': '350', 'telefon': '100'}, {'drzava': 'Hrvaška', 'valuta': 'EUR', 'alkohol': '90 - 2.650\\xa0ali zaporna kazen', 'voznja': '130', 'pas': '130', 'telefon': '130'}, {'drzava': 'Irska', 'valuta': 'EUR', 'alkohol': 'do 5.000', 'voznja': '160', 'pas': '120', 'telefon': '60 - 90'}, {'drzava': 'Islandija', 'valuta': 'ISK', 'alkohol': '70.000 - 160.000', 'voznja': '15.000', 'pas': '10.000', 'telefon': '5.000'}, {'drzava': 'Italija', 'valuta': 'EUR', 'alkohol': '532 - 6.000', 'voznja': '169 - 899', 'pas': '80 - 323', 'telefon': '161 - 647'}, {'drzava': 'Kosovo', 'valuta': 'EUR', 'alkohol': '65 - 130', 'voznja': '35', 'pas': '35', 'telefon': '35'}, {'drzava': 'Latvija', 'valuta': 'EUR', 'alkohol': '210 - 1.400', 'voznja': '40', 'pas': '30', 'telefon': '15'}, {'drzava': 'Liechtenstein', 'valuta': 'CHF', 'alkohol': '600 - 5.000', 'voznja': '180 - 240', 'pas': '60', 'telefon': '100'}, {'drzava': 'Litva', 'valuta': 'EUR', 'alkohol': '289 - 1.400', 'voznja': '30 - 90', 'pas': '30 - 50', 'telefon': '86 - 90'}, {'drzava': 'Luksemburg', 'valuta': 'EUR', 'alkohol': '145 - 10.000', 'voznja': '145', 'pas': '49', 'telefon': '74'}, {'drzava': 'Madžarska', 'valuta': 'HUF', 'alkohol': '100.000 - 200.000', 'voznja': '30.000', 'pas': '10.000 - 20.000', 'telefon': '15.000 - 30.000'}, {'drzava': 'Malta', 'valuta': 'EUR', 'alkohol': '1.200 - 2.329', 'voznja': '69,88', 'pas': '46,59', 'telefon': '100'}, {'drzava': 'Moldavija', 'valuta': 'MDL', 'alkohol': '7.500 - 25.000', 'voznja': '1.500', 'pas': '750 - 1.000', 'telefon': '750 - 1.000'}, {'drzava': 'Monako', 'valuta': 'EUR', 'alkohol': '200 - 9.000', 'voznja': '45 - 750', 'pas': '22,50 - 135', 'telefon': '22,50 - 135'}, {'drzava': 'Nemčija', 'valuta': 'EUR', 'alkohol': '500 - 1.500', 'voznja': '30 - 70', 'pas': '30', 'telefon': '100 - 200'}, {'drzava': 'Nizozemska', 'valuta': 'EUR', 'alkohol': '300\\xa0- 650', 'voznja': '240', 'pas': '180', 'telefon': '420'}, {'drzava': 'Norveška', 'valuta': 'NOK', 'alkohol': '6.500–11.000', 'voznja': '7.800', 'pas': '1.500', 'telefon': '9.700'}, {'drzava': 'Poljska', 'valuta': 'PLN', 'alkohol': 'do 5.000', 'voznja': '114', 'pas': '100', 'telefon': '200'}, {'drzava': 'Portugalska', 'valuta': 'EUR', 'alkohol': '250 - 2.500', 'voznja': '60 - 300', 'pas': '120 - 600', 'telefon': '120 - 600'}, {'drzava': 'Romunija', 'valuta': 'RON', 'alkohol': '1.305\\xa0- 2.900', 'voznja': '870 - 2.900', 'pas': '290 -\\xa0435', 'telefon': '580 - 725'}, {'drzava': 'Rusija', 'valuta': 'RUB', 'alkohol': '5.000 - 30.000', 'voznja': '2.000', 'pas': '1.000', 'telefon': '1.500'}, {'drzava': 'Severna Makedonija', 'valuta': 'MKD', 'alkohol': '15.300 - 24.600', 'voznja': '2.800', 'pas': '1.250', 'telefon': '2.800'}, {'drzava': 'Slovaška', 'valuta': 'EUR', 'alkohol': '200 - 1.000', 'voznja': '150 - 800', 'pas': '20 - 60', 'telefon': '20 - 60'}, {'drzava': 'Slovenija', 'valuta': 'EUR', 'alkohol': '300 - 1.200', 'voznja': '120 + 3 točke', 'pas': '120', 'telefon': '250 + 3 točke'}, {'drzava': 'Španija', 'valuta': 'EUR', 'alkohol': '500 - 1.000', 'voznja': '100 - 600', 'pas': '200', 'telefon': '200'}, {'drzava': 'Srbija', 'valuta': 'RSD', 'alkohol': '5.000 -\\xa0120.000', 'voznja': '5.000', 'pas': '5.000', 'telefon': '5.000 - 18.000'}, {'drzava': 'Švedska', 'valuta': 'SEK', 'alkohol': 'odvisno od mesečnega prihodka', 'voznja': '2.800', 'pas': '1.500', 'telefon': '1.600'}, {'drzava': 'Švica', 'valuta': 'CHF', 'alkohol': '600 - 6.500', 'voznja': '400', 'pas': '60', 'telefon': '100'}, {'drzava': 'Turčija', 'valuta': 'TRY', 'alkohol': '1002 - 2869', 'voznja': '235 - 488', 'pas': '108', 'telefon': '-'}, {'drzava': 'Ukrajina', 'valuta': 'UAH', 'alkohol': '2.550 - 3.400', 'voznja': '255 - 340', 'pas': '51 - 85', 'telefon': '425 - 510'}, {'drzava': 'V. Britanija', 'valuta': 'GBP', 'alkohol': '5.000', 'voznja': 'do 1.000', 'pas': 'do 1.000', 'telefon': 'do 1.000'}]\n",
      "Podatki uspešno shranjeni v datoteko kazni_evropske_drzave.csv.\n",
      "Podatki uspešno shranjeni v datoteko kazni_evropske_drzave_eur_sortirano.csv.\n"
     ]
    }
   ],
   "source": [
    "from pridobi_podatke_podstrani import *\n",
    "from tabela_csv import *\n",
    "from pretvori_v_EUR import *"
   ]
  },
  {
   "cell_type": "markdown",
   "metadata": {},
   "source": [
    "## Pridobivanje podatkov za posamezno državo"
   ]
  },
  {
   "cell_type": "code",
   "execution_count": null,
   "metadata": {},
   "outputs": [],
   "source": [
    "testna_drzava = \"madzarska\"\n",
    "kazni_za_drzavo = pridobi_kazni_za_drzavo(testna_drzava)\n",
    "kazni_za_drzavo"
   ]
  },
  {
   "cell_type": "markdown",
   "metadata": {},
   "source": [
    "## Funkcija za pretvorbo kazni v EUR"
   ]
  },
  {
   "cell_type": "code",
   "execution_count": null,
   "metadata": {},
   "outputs": [],
   "source": [
    "# Pretvorba testne vrednosti v EUR\n",
    "testna_cena = \"1000\"\n",
    "testna_valuta = \"HUF\"\n",
    "pretvorjena_cena = pretvori_v_eur(testna_cena, testna_valuta)\n",
    "f\"Pretvorjena cena: {pretvorjena_cena} EUR\""
   ]
  }
 ],
 "metadata": {
  "kernelspec": {
   "display_name": "Python 3",
   "language": "python",
   "name": "python3"
  },
  "language_info": {
   "codemirror_mode": {
    "name": "ipython",
    "version": 3
   },
   "file_extension": ".py",
   "mimetype": "text/x-python",
   "name": "python",
   "nbconvert_exporter": "python",
   "pygments_lexer": "ipython3",
   "version": "3.12.2"
  }
 },
 "nbformat": 4,
 "nbformat_minor": 4
}
