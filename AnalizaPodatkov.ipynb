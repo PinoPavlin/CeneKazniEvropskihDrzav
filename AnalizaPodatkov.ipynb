{
 "cells": [
  {
   "cell_type": "markdown",
   "metadata": {},
   "source": [
    "# Analiza podatkov\n",
    "\n",
    "Podatki so zbrani iz spletne strani [AMZS](https://www.amzs.si/na-poti/Potovalne-informacije-po-evropskih-drzavah).\n",
    "\n",
    "## Priprava knjižnic in osnovnih nastavitev"
   ]
  },
  {
   "cell_type": "code",
   "execution_count": null,
   "metadata": {},
   "outputs": [],
   "source": [
    "from pridobi_podatke_podstrani import *\n",
    "from tabela_csv import *\n",
    "from pretvori_v_EUR import *"
   ]
  }
 ],
 "metadata": {
  "kernelspec": {
   "display_name": "Python 3",
   "language": "python",
   "name": "python3"
  },
  "language_info": {
   "codemirror_mode": {
    "name": "ipython",
    "version": 3
   },
   "file_extension": ".py",
   "mimetype": "text/x-python",
   "name": "python",
   "nbconvert_exporter": "python",
   "pygments_lexer": "ipython3",
   "version": "3.12.2"
  }
 },
 "nbformat": 4,
 "nbformat_minor": 4
}
