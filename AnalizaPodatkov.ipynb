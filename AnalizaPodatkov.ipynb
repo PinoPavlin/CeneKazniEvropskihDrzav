{
 "cells": [
  {
   "cell_type": "markdown",
   "metadata": {},
   "source": [
    "# Analiza podatkov\n",
    "\n",
    "Podatki so zbrani iz spletne strani [AMZS](https://www.amzs.si/na-poti/Potovalne-informacije-po-evropskih-drzavah).\n",
    "\n",
    "## Priprava knjižnic in osnovnih nastavitev"
   ]
  },
  {
   "cell_type": "code",
   "execution_count": 4,
   "metadata": {},
   "outputs": [],
   "source": [
    "from pridobi_podatke_podstrani import *\n",
    "from tabela_csv import *\n",
    "from pretvori_v_EUR import *"
   ]
  },
  {
   "cell_type": "markdown",
   "metadata": {},
   "source": [
    "## Pridobivanje podatkov za posamezno državo"
   ]
  },
  {
   "cell_type": "code",
   "execution_count": 5,
   "metadata": {},
   "outputs": [
    {
     "data": {
      "text/plain": [
       "{'drzava': 'Madžarska',\n",
       " 'valuta': 'HUF',\n",
       " 'alkohol': '100.000 - 200.000',\n",
       " 'voznja': '30.000',\n",
       " 'pas': '10.000 - 20.000',\n",
       " 'telefon': '15.000 - 30.000'}"
      ]
     },
     "execution_count": 5,
     "metadata": {},
     "output_type": "execute_result"
    }
   ],
   "source": [
    "testna_drzava = \"madzarska\"\n",
    "kazni_za_drzavo = pridobi_kazni_za_drzavo(testna_drzava)\n",
    "print(kazni_za_drzavo)"
   ]
  },
  {
   "cell_type": "markdown",
   "metadata": {},
   "source": [
    "## Funkcija za pretvorbo kazni v EUR"
   ]
  },
  {
   "cell_type": "code",
   "execution_count": 6,
   "metadata": {},
   "outputs": [
    {
     "data": {
      "text/plain": [
       "'Pretvorjena cena: 2.0 EUR'"
      ]
     },
     "execution_count": 6,
     "metadata": {},
     "output_type": "execute_result"
    }
   ],
   "source": [
    "# Pretvorba testne vrednosti v EUR\n",
    "testna_cena = \"1000\"\n",
    "testna_valuta = \"HUF\"\n",
    "pretvorjena_cena = pretvori_v_eur(testna_cena, testna_valuta)\n",
    "print(f\"Pretvorjena cena: {pretvorjena_cena} EUR\")"
   ]
  }
 ],
 "metadata": {
  "kernelspec": {
   "display_name": "Python 3",
   "language": "python",
   "name": "python3"
  },
  "language_info": {
   "codemirror_mode": {
    "name": "ipython",
    "version": 3
   },
   "file_extension": ".py",
   "mimetype": "text/x-python",
   "name": "python",
   "nbconvert_exporter": "python",
   "pygments_lexer": "ipython3",
   "version": "3.12.2"
  }
 },
 "nbformat": 4,
 "nbformat_minor": 4
}
