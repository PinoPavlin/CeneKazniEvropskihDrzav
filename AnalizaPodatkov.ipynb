{
 "cells": [
  {
   "cell_type": "markdown",
   "metadata": {},
   "source": [
    "# Analiza podatkov\n",
    "\n",
    "Podatki so zbrani iz spletne strani [AMZS](https://www.amzs.si/na-poti/Potovalne-informacije-po-evropskih-drzavah).\n",
    "\n",
    "## Priprava knjižnic in osnovnih nastavitev"
   ]
  },
  {
   "cell_type": "code",
   "execution_count": 4,
   "metadata": {},
   "outputs": [],
   "source": [
    "from tabela_csv import *\n",
    "from pretvori_v_EUR import *"
   ]
  },
  {
   "cell_type": "markdown",
   "metadata": {},
   "source": [
    "## Pridobivanje podatkov za posamezno državo"
   ]
  },
  {
   "cell_type": "code",
   "execution_count": 5,
   "metadata": {},
   "outputs": [
    {
     "data": {
      "text/html": [
       "<div>\n",
       "<style scoped>\n",
       "    .dataframe tbody tr th:only-of-type {\n",
       "        vertical-align: middle;\n",
       "    }\n",
       "\n",
       "    .dataframe tbody tr th {\n",
       "        vertical-align: top;\n",
       "    }\n",
       "\n",
       "    .dataframe thead th {\n",
       "        text-align: right;\n",
       "    }\n",
       "</style>\n",
       "<table border=\"1\" class=\"dataframe\">\n",
       "  <thead>\n",
       "    <tr style=\"text-align: right;\">\n",
       "      <th></th>\n",
       "      <th>Kazni</th>\n",
       "      <th>Vrednosti</th>\n",
       "    </tr>\n",
       "  </thead>\n",
       "  <tbody>\n",
       "    <tr>\n",
       "      <th>0</th>\n",
       "      <td>drzava</td>\n",
       "      <td>Slovenija</td>\n",
       "    </tr>\n",
       "    <tr>\n",
       "      <th>1</th>\n",
       "      <td>valuta</td>\n",
       "      <td>EUR</td>\n",
       "    </tr>\n",
       "    <tr>\n",
       "      <th>2</th>\n",
       "      <td>alkohol</td>\n",
       "      <td>300 - 1.200</td>\n",
       "    </tr>\n",
       "    <tr>\n",
       "      <th>3</th>\n",
       "      <td>voznja</td>\n",
       "      <td>120 + 3 točke</td>\n",
       "    </tr>\n",
       "    <tr>\n",
       "      <th>4</th>\n",
       "      <td>pas</td>\n",
       "      <td>120</td>\n",
       "    </tr>\n",
       "    <tr>\n",
       "      <th>5</th>\n",
       "      <td>telefon</td>\n",
       "      <td>250 + 3 točke</td>\n",
       "    </tr>\n",
       "  </tbody>\n",
       "</table>\n",
       "</div>"
      ],
      "text/plain": [
       "     Kazni      Vrednosti\n",
       "0   drzava      Slovenija\n",
       "1   valuta            EUR\n",
       "2  alkohol    300 - 1.200\n",
       "3   voznja  120 + 3 točke\n",
       "4      pas            120\n",
       "5  telefon  250 + 3 točke"
      ]
     },
     "execution_count": 5,
     "metadata": {},
     "output_type": "execute_result"
    }
   ],
   "source": [
    "import pandas as pd\n",
    "\n",
    "testna_drzava = \"slovenija\"\n",
    "slovar = pridobi_kazni_za_drzavo(testna_drzava)\n",
    "df = pd.DataFrame(list(slovar.items()), columns=['Kazni', 'Vrednosti'])\n",
    "df"
   ]
  },
  {
   "cell_type": "markdown",
   "metadata": {},
   "source": [
    "## Funkcija za pretvorbo kazni v EUR"
   ]
  },
  {
   "cell_type": "code",
   "execution_count": 6,
   "metadata": {},
   "outputs": [
    {
     "data": {
      "text/plain": [
       "'Pretvorjena cena: 0.2 EUR'"
      ]
     },
     "execution_count": 6,
     "metadata": {},
     "output_type": "execute_result"
    }
   ],
   "source": [
    "# Pretvorba testne vrednosti v EUR\n",
    "testna_cena = \"100\"\n",
    "testna_valuta = \"HUF\"\n",
    "pretvorjena_cena = pretvori_v_eur(testna_cena, testna_valuta)\n",
    "f\"Pretvorjena cena: {pretvorjena_cena} EUR\""
   ]
  }
 ],
 "metadata": {
  "kernelspec": {
   "display_name": "Python 3",
   "language": "python",
   "name": "python3"
  },
  "language_info": {
   "codemirror_mode": {
    "name": "ipython",
    "version": 3
   },
   "file_extension": ".py",
   "mimetype": "text/x-python",
   "name": "python",
   "nbconvert_exporter": "python",
   "pygments_lexer": "ipython3",
   "version": "3.12.2"
  }
 },
 "nbformat": 4,
 "nbformat_minor": 4
}
